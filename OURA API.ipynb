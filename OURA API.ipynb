{
 "cells": [
  {
   "cell_type": "code",
   "execution_count": 1,
   "metadata": {},
   "outputs": [],
   "source": [
    "from requests_oauthlib import OAuth2Session\n",
    "\n",
    "from flask import Flask, request, redirect, session, url_for\n",
    "from flask.json import jsonify"
   ]
  },
  {
   "cell_type": "code",
   "execution_count": null,
   "metadata": {},
   "outputs": [],
   "source": [
    "#TODO generate flask app\n"
   ]
  },
  {
   "cell_type": "code",
   "execution_count": 2,
   "metadata": {},
   "outputs": [
    {
     "ename": "NameError",
     "evalue": "name 'app' is not defined",
     "output_type": "error",
     "traceback": [
      "\u001b[0;31m---------------------------------------------------------------------------\u001b[0m",
      "\u001b[0;31mNameError\u001b[0m                                 Traceback (most recent call last)",
      "\u001b[0;32m<ipython-input-2-8d68a453e8bc>\u001b[0m in \u001b[0;36m<module>\u001b[0;34m()\u001b[0m\n\u001b[1;32m      6\u001b[0m \u001b[0mtoken_url\u001b[0m \u001b[0;34m=\u001b[0m \u001b[0;34m'https://api.ouraring.com/oauth/token'\u001b[0m\u001b[0;34m\u001b[0m\u001b[0m\n\u001b[1;32m      7\u001b[0m \u001b[0;34m\u001b[0m\u001b[0m\n\u001b[0;32m----> 8\u001b[0;31m \u001b[0;34m@\u001b[0m\u001b[0mapp\u001b[0m\u001b[0;34m.\u001b[0m\u001b[0mroute\u001b[0m\u001b[0;34m(\u001b[0m\u001b[0;34m\"/login\"\u001b[0m\u001b[0;34m)\u001b[0m\u001b[0;34m\u001b[0m\u001b[0m\n\u001b[0m\u001b[1;32m      9\u001b[0m \u001b[0;32mdef\u001b[0m \u001b[0mlogin\u001b[0m\u001b[0;34m(\u001b[0m\u001b[0;34m)\u001b[0m\u001b[0;34m:\u001b[0m\u001b[0;34m\u001b[0m\u001b[0m\n\u001b[1;32m     10\u001b[0m     \u001b[0moura\u001b[0m \u001b[0;34m=\u001b[0m \u001b[0mOAuth2Session\u001b[0m\u001b[0;34m(\u001b[0m\u001b[0mclient_id\u001b[0m\u001b[0;34m)\u001b[0m\u001b[0;34m\u001b[0m\u001b[0m\n",
      "\u001b[0;31mNameError\u001b[0m: name 'app' is not defined"
     ]
    }
   ],
   "source": [
    "#TODO assign daily scope\n",
    "# This information is obtained upon registration of a new GitHub\n",
    "client_id = \"IWRVWQRL7DYHGNXC\"\n",
    "client_secret = \"UQCKOVVM3XYIPPFOD6PH2IFYT23QNH5T\"\n",
    "authorization_base_url = 'https://cloud.ouraring.com/oauth/authorize'\n",
    "token_url = 'https://api.ouraring.com/oauth/token'\n",
    "\n",
    "@app.route(\"/login\")\n",
    "def login():\n",
    "    oura = OAuth2Session(client_id)\n",
    "    authorization_url, state = oura.authorization_url(authorization_base_url)\n",
    "\n",
    "    # State is used to prevent CSRF, keep this for later.\n",
    "    session['oauth_state'] = state\n",
    "    return redirect(authorization_url)\n",
    "\n",
    "@app.route(\"/callback\")\n",
    "def callback():\n",
    "    oura = OAuth2Session(client_id, state=session['oauth_state'])\n",
    "    token = oura.fetch_token(token_url, client_secret=client_secret,\n",
    "                               authorization_response=request.url)\n",
    "\n",
    "    return jsonify(oura.get('https://api.ouraring.com/v1/userinfo').json())"
   ]
  },
  {
   "cell_type": "code",
   "execution_count": null,
   "metadata": {},
   "outputs": [],
   "source": []
  }
 ],
 "metadata": {
  "kernelspec": {
   "display_name": "Python [conda env:PythonData]",
   "language": "python",
   "name": "conda-env-PythonData-py"
  },
  "language_info": {
   "codemirror_mode": {
    "name": "ipython",
    "version": 3
   },
   "file_extension": ".py",
   "mimetype": "text/x-python",
   "name": "python",
   "nbconvert_exporter": "python",
   "pygments_lexer": "ipython3",
   "version": "3.6.5"
  }
 },
 "nbformat": 4,
 "nbformat_minor": 2
}
