{
 "cells": [
  {
   "cell_type": "code",
   "execution_count": 1,
   "metadata": {},
   "outputs": [],
   "source": [
    "from requests_oauthlib import OAuth2Session\n",
    "\n",
    "from flask import Flask, request, redirect, session, url_for\n",
    "from flask.json import jsonify"
   ]
  },
  {
   "cell_type": "code",
   "execution_count": null,
   "metadata": {},
   "outputs": [],
   "source": [
    "\n",
    "# This information is obtained upon registration of a new GitHub\n",
    "client_id = \"IWRVWQRL7DYHGNXC\"\n",
    "client_secret = \"UQCKOVVM3XYIPPFOD6PH2IFYT23QNH5T\"\n",
    "authorization_base_url = 'https://cloud.ouraring.com/oauth/authorize'\n",
    "token_url = 'https://api.ouraring.com/oauth/token'\n",
    "\n",
    "@app.route(\"/login\")\n",
    "def login():\n",
    "    oura = OAuth2Session(client_id)\n",
    "    authorization_url, state = oura.authorization_url(authorization_base_url)\n",
    "\n",
    "    # State is used to prevent CSRF, keep this for later.\n",
    "    session['oauth_state'] = state\n",
    "    return redirect(authorization_url)\n",
    "\n",
    "@app.route(\"/callback\")\n",
    "def callback():\n",
    "    oura = OAuth2Session(client_id, state=session['oauth_state'])\n",
    "    token = oura.fetch_token(token_url, client_secret=client_secret,\n",
    "                               authorization_response=request.url)\n",
    "\n",
    "    return jsonify(oura.get('https://api.ouraring.com/v1/userinfo').json())"
   ]
  }
 ],
 "metadata": {
  "kernelspec": {
   "display_name": "Python [conda env:PythonData]",
   "language": "python",
   "name": "conda-env-PythonData-py"
  },
  "language_info": {
   "codemirror_mode": {
    "name": "ipython",
    "version": 3
   },
   "file_extension": ".py",
   "mimetype": "text/x-python",
   "name": "python",
   "nbconvert_exporter": "python",
   "pygments_lexer": "ipython3",
   "version": "3.6.5"
  }
 },
 "nbformat": 4,
 "nbformat_minor": 2
}
