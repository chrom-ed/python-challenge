{
 "cells": [
  {
   "cell_type": "code",
   "execution_count": 1,
   "metadata": {},
   "outputs": [],
   "source": [
    "from splinter import Browser\n",
    "from bs4 import BeautifulSoup\n",
    "import pandas as pd"
   ]
  },
  {
   "cell_type": "code",
   "execution_count": 2,
   "metadata": {},
   "outputs": [],
   "source": [
    "executable_path = {'executable_path': '/usr/local/bin/chromedriver'}\n",
    "browser = Browser('chrome', **executable_path, headless=False)"
   ]
  },
  {
   "cell_type": "code",
   "execution_count": 3,
   "metadata": {},
   "outputs": [],
   "source": [
    "url = 'https://mars.nasa.gov/news/'\n",
    "browser.visit(url)"
   ]
  },
  {
   "cell_type": "code",
   "execution_count": 4,
   "metadata": {},
   "outputs": [],
   "source": [
    "# HTML object\n",
    "html = browser.html\n",
    "# Parse HTML with Beautiful Soup\n",
    "soup = BeautifulSoup(html, 'html.parser')\n",
    "# Retrieve all elements that contain article information\n",
    "articles = soup.find_all('div', class_='list_text')"
   ]
  },
  {
   "cell_type": "code",
   "execution_count": 5,
   "metadata": {},
   "outputs": [],
   "source": [
    "articleList = []\n",
    "for article in articles:\n",
    "    title = article.find('div', class_='content_title')\n",
    "    titleText = title.find('a').contents[0]\n",
    "    bodyText = article.find('div', class_='article_teaser_body').contents[0]\n",
    "    articleList.append({titleText:bodyText})\n",
    "#     print(titleText)\n",
    "#     print(bodyText)"
   ]
  },
  {
   "cell_type": "code",
   "execution_count": 6,
   "metadata": {
    "scrolled": true
   },
   "outputs": [
    {
     "data": {
      "text/plain": [
       "[{\"The 'Claw Game' on Mars: NASA InSight Plays to Win\": \"NASA's InSight lander will be the first mission to use a robotic arm to grasp instruments from the spacecraft and place them on the surface of another planet. \"},\n",
       " {'Scientists to Debate Landing Site for Next Mars Rover': \"Hundreds of scientists and Mars-exploration enthusiasts gather this week to present, discuss and deliberate the future landing site for NASA's next Red Planet. \"},\n",
       " {'Update on Opportunity Rover after Martian Dust Storm': \"One month since increasing their commanding frequency, engineers have yet to hear from NASA's Opportunity rover.\"},\n",
       " {'Mars Virtual Reality Software Wins NASA Award': \"A mixed-reality software that allows scientists and engineers to virtually walk on Mars has received NASA's 2018 Software of the Year Award.\"},\n",
       " {'Painting Cars for Mars': \"What does NASA do to get a rover ready for Mars? JPL's paint shop does a thousand different paint jobs a year. And while every piece of spacecraft that comes through the shop is important, one headed for the Red Planet adds a little extra oomph.\"},\n",
       " {\"Curiosity Rover to Temporarily Switch 'Brains'\": \"NASA engineers are switching over to Curiosity's spare computer to diagnose a technical issue.\"},\n",
       " {'Opportunity Emerges in a Dusty Picture': \"NASA still hasn't heard from the Opportunity rover, but at least the agency can see it again.\"},\n",
       " {'NASA Seeking Partner in Contest to Name Next Mars Rover': 'NASA has a class assignment for corporations, nonprofits and educational organizations involved in science and space exploration: partner with the agency to inspire future engineers and scientists by sponsoring a contest to name the next rover to venture to the Red Planet.'},\n",
       " {\"NASA's MAVEN Selfie Marks Four Years in Orbit at Mars\": 'NASA’s MAVEN spacecraft celebrates four years in Mars orbit with a selfie.'},\n",
       " {'MarCO Makes Space for Small Explorers': 'A pair of NASA CubeSats flying to Mars are opening a new frontier for small spacecraft.'},\n",
       " {'Curiosity Surveys a Mystery Under Dusty Skies': \"NASA's Curiosity rover surveyed its surroundings on Mars, producing a 360-degree panorama of its current location on Vera Rubin Ridge.\"},\n",
       " {\"NASA's InSight Has a Thermometer for Mars\": \"The mission's heat probe could reveal how the planet's towering volcanoes formed.\"},\n",
       " {'Digital Creators: Apply for NASA Mars Landing Event': \"Up to 30 multimedia participants will be selected for a special two-day event at JPL culminating in the InSight spacecraft's landing on Mars. Apply by Sept. 3.\"},\n",
       " {\"NASA's InSight Passes Halfway to Mars, Instruments Check In\": \"NASA's InSight spacecraft, en route to a Nov. 26 landing on Mars, passed the halfway mark on Aug. 6. All of its instruments have been tested and are working well.\"},\n",
       " {\"Six Things About Opportunity's Recovery Efforts\": 'The global dust storm on Mars could soon let in enough sunlight for the Opportunity rover to recharge.'},\n",
       " {\"Meet the People Behind NASA's InSight Mars Lander\": 'A series of NASA videos highlight scientists and engineers leading the next mission to Mars.'},\n",
       " {'Mars Terraforming Not Possible Using Present-Day Technology': 'Transforming the inhospitable Martian environment into a place astronauts could explore without life support is not possible without technology well beyond today’s capabilities.'},\n",
       " {'Opportunity Hunkers Down During Dust Storm': \"It's the beginning of the end for the planet-encircling dust storm on Mars. But it could still be weeks, or even months, before skies are clear enough for NASA's Opportunity rover to recharge its batteries and phone home. \"},\n",
       " {'NASA Statement on Possible Subsurface Lake near Martian South Pole': \"A new paper suggests that liquid water may be sitting under a layer of ice at Mars' south pole.\"},\n",
       " {\"JPL's 'Martians' Are Coming to Griffith Observatory\": \"On July 30, when Mars and Earth are closer than they've been since 2003, JPL scientists and engineers will be at a free public event at Griffith Observatory in Los Angeles.\"},\n",
       " {\"NASA's MAVEN Spacecraft Finds That 'Stolen' Electrons Enable Unusual Aurora on Mars\": 'Auroras appear on Earth as ghostly displays of colorful light in the night sky, usually near the poles.'},\n",
       " {\"'Storm Chasers' on Mars Searching for Dusty Secrets\": \"Scientists with NASA's Mars orbiters have been waiting years for an event like the current Mars global dust storm.\"},\n",
       " {'NASA Mars Mission Adds Southern California Dates': \"Looking for summer fun? Southern California families have their choice of the beach, movies, museums -- and even NASA's next mission to Mars.\"},\n",
       " {'Curiosity Captures Photos of Thickening Dust': 'A storm of tiny dust particles has engulfed much of Mars over the last two weeks.'},\n",
       " {'NASA Encounters the Perfect Storm for Science': 'One of the most intense Martian dust storms ever observed is being studied by a record number of NASA spacecraft.'},\n",
       " {'Media Telecon About Mars Dust Storm, Opportunity': 'NASA will host a media telecon on Wednesday, June 13, about a massive Martian dust storm affecting the Opportunity rover, and how various missions can obtain unique science.'},\n",
       " {'NASA Finds Ancient Organic Material, Mysterious Methane on Mars': 'NASA’s Curiosity rover has found evidence on Mars with implications for NASA’s search for life.'},\n",
       " {'NASA to Host Live Discussion on New Mars Science Results': \"Questions are welcome during a live discussion at 11 a.m. PDT (2 p.m. EDT) Thursday, June 7, on new science results from NASA's Mars Curiosity rover.\"},\n",
       " {\"Mars Curiosity's Labs Are Back in Action\": \"NASA's Curiosity rover is analyzing drilled samples on Mars in one of its onboard labs for the first time in more than a year.\"},\n",
       " {'NASA CubeSats Steer Toward Mars': 'NASA has achieved a first for the class of tiny spacecraft known as CubeSats, which are opening new access to space.'},\n",
       " {'Scientists Shrink Chemistry Lab to Seek Evidence of Life on Mars': 'An international team of scientists has created a tiny chemistry lab for a rover that will drill beneath the Martian surface looking for signs of past or present life.'},\n",
       " {'InSight Steers Toward Mars': 'The spacecraft has completed its first trajectory correction maneuver.'},\n",
       " {'Drilling Success: Curiosity is Collecting Mars Rocks': \"Engineers will now test delivering samples to instruments inside NASA's Curiosity Mars rover.\"},\n",
       " {\"NASA's Curiosity Rover Aims to Get Its Rhythm Back\": 'Rover engineers at JPL will try to restore percussive drilling on Mars this week, part of a larger series of tests that will last through summer.'},\n",
       " {'A Pale Blue Dot, As Seen by a CubeSat': \"One of NASA's MarCO CubeSats has taken its first image.\"},\n",
       " {\"Mars Helicopter to Fly on NASA's Next Red Planet Rover Mission\": 'NASA is adding a Mars helicopter to the agency’s next mission to the Red Planet, Mars 2020.'},\n",
       " {\"NASA's First Deep-Space CubeSats Say: 'Polo!'\": \"MarCO is a pair of tiny spacecraft that launched with NASA's InSight lander today.\"},\n",
       " {'NASA, ULA Launch Mission to Study How Mars Was Made': 'NASA’s Mars InSight mission launched this morning on a 300-million-mile trip to Mars to study for the first time what lies deep beneath the surface of the Red Planet.'},\n",
       " {\"NASA's First Mission to Study the Interior of Mars Awaits May 5 Launch\": 'All systems are go for NASA’s next launch to the Red Planet. '},\n",
       " {\"Vice President Pence Visits JPL, Previews NASA's Next Mars Mission Launch\": \"A week before NASA's next Mars launch, Vice President Mike Pence toured the birthplace of the InSight Mars Lander and numerous other past, present and future space missions.\"}]"
      ]
     },
     "execution_count": 6,
     "metadata": {},
     "output_type": "execute_result"
    }
   ],
   "source": [
    "articleList"
   ]
  },
  {
   "cell_type": "code",
   "execution_count": 7,
   "metadata": {},
   "outputs": [],
   "source": [
    "url = 'https://www.jpl.nasa.gov/spaceimages/?search=&category=Mars'\n",
    "browser.visit(url)"
   ]
  },
  {
   "cell_type": "code",
   "execution_count": 8,
   "metadata": {},
   "outputs": [],
   "source": [
    "# HTML object\n",
    "html = browser.html\n",
    "# Parse HTML with Beautiful Soup\n",
    "soup = BeautifulSoup(html, 'html.parser')\n",
    "# click on the picture button\n",
    "browser.find_by_id('full_image').first.click()\n",
    "# Rerun soup\n",
    "# HTML object\n",
    "html = browser.html\n",
    "# Parse HTML with Beautiful Soup\n",
    "soup = BeautifulSoup(html, 'html.parser')\n",
    "# Retrieve image element\n",
    "div = soup.find('div', class_='carousel_items')\n",
    "image = div.article[\"style\"]"
   ]
  },
  {
   "cell_type": "code",
   "execution_count": 10,
   "metadata": {},
   "outputs": [],
   "source": [
    "imgHref = image.split('\\'')\n",
    "baseUrl = url.split('spaceimages')\n",
    "baseUrl = baseUrl[0][:-1]"
   ]
  },
  {
   "cell_type": "code",
   "execution_count": 11,
   "metadata": {},
   "outputs": [
    {
     "data": {
      "text/plain": [
       "'https://www.jpl.nasa.gov/spaceimages/images/wallpaper/PIA18182-1920x1200.jpg'"
      ]
     },
     "execution_count": 11,
     "metadata": {},
     "output_type": "execute_result"
    }
   ],
   "source": [
    "featureImg = baseUrl + imgHref[1]\n",
    "featureImg"
   ]
  },
  {
   "cell_type": "code",
   "execution_count": 12,
   "metadata": {},
   "outputs": [],
   "source": [
    "url = 'https://twitter.com/marswxreport?lang=en'\n",
    "browser.visit(url)"
   ]
  },
  {
   "cell_type": "code",
   "execution_count": 13,
   "metadata": {},
   "outputs": [],
   "source": [
    "# HTML object\n",
    "html = browser.html\n",
    "# Parse HTML with Beautiful Soup\n",
    "soup = BeautifulSoup(html, 'html.parser')"
   ]
  },
  {
   "cell_type": "code",
   "execution_count": 14,
   "metadata": {},
   "outputs": [],
   "source": [
    "# this mars weather has been tweeting a lot of non-weather things\n",
    "mars_weather = soup.find('p', class_='tweet-text').text"
   ]
  },
  {
   "cell_type": "code",
   "execution_count": 15,
   "metadata": {},
   "outputs": [
    {
     "data": {
      "text/plain": [
       "'And finally - a stack of all the images - you can see so much detail here https://dougellison.smugmug.com/Machines/Space-X-SAOCOM-1A/i-zbJzq8L\\xa0…pic.twitter.com/9nLwAH3oZQ'"
      ]
     },
     "execution_count": 15,
     "metadata": {},
     "output_type": "execute_result"
    }
   ],
   "source": [
    "mars_weather"
   ]
  },
  {
   "cell_type": "code",
   "execution_count": 16,
   "metadata": {},
   "outputs": [],
   "source": [
    "url = 'https://space-facts.com/mars/'\n",
    "browser.visit(url)\n",
    "# HTML object\n",
    "html = browser.html\n",
    "# Parse HTML with Beautiful Soup\n",
    "soup = BeautifulSoup(html, 'html.parser')"
   ]
  },
  {
   "cell_type": "code",
   "execution_count": 17,
   "metadata": {},
   "outputs": [],
   "source": [
    "# <table id=\"tablepress-mars\" class=\"tablepress tablepress-id-mars\">\n",
    "table = soup.find('table', class_='tablepress-id-mars')\n",
    "page = pd.read_html(str(table), flavor='html5lib')\n",
    "marsDF = page[0]\n",
    "marsDF.columns = ['Data','Value']"
   ]
  },
  {
   "cell_type": "code",
   "execution_count": 18,
   "metadata": {},
   "outputs": [
    {
     "data": {
      "text/html": [
       "<div>\n",
       "<style scoped>\n",
       "    .dataframe tbody tr th:only-of-type {\n",
       "        vertical-align: middle;\n",
       "    }\n",
       "\n",
       "    .dataframe tbody tr th {\n",
       "        vertical-align: top;\n",
       "    }\n",
       "\n",
       "    .dataframe thead th {\n",
       "        text-align: right;\n",
       "    }\n",
       "</style>\n",
       "<table border=\"1\" class=\"dataframe\">\n",
       "  <thead>\n",
       "    <tr style=\"text-align: right;\">\n",
       "      <th></th>\n",
       "      <th>Data</th>\n",
       "      <th>Value</th>\n",
       "    </tr>\n",
       "  </thead>\n",
       "  <tbody>\n",
       "    <tr>\n",
       "      <th>0</th>\n",
       "      <td>Equatorial Diameter:</td>\n",
       "      <td>6,792 km</td>\n",
       "    </tr>\n",
       "    <tr>\n",
       "      <th>1</th>\n",
       "      <td>Polar Diameter:</td>\n",
       "      <td>6,752 km</td>\n",
       "    </tr>\n",
       "    <tr>\n",
       "      <th>2</th>\n",
       "      <td>Mass:</td>\n",
       "      <td>6.42 x 10^23 kg (10.7% Earth)</td>\n",
       "    </tr>\n",
       "    <tr>\n",
       "      <th>3</th>\n",
       "      <td>Moons:</td>\n",
       "      <td>2 (Phobos &amp; Deimos)</td>\n",
       "    </tr>\n",
       "    <tr>\n",
       "      <th>4</th>\n",
       "      <td>Orbit Distance:</td>\n",
       "      <td>227,943,824 km (1.52 AU)</td>\n",
       "    </tr>\n",
       "    <tr>\n",
       "      <th>5</th>\n",
       "      <td>Orbit Period:</td>\n",
       "      <td>687 days (1.9 years)</td>\n",
       "    </tr>\n",
       "    <tr>\n",
       "      <th>6</th>\n",
       "      <td>Surface Temperature:</td>\n",
       "      <td>-153 to 20 °C</td>\n",
       "    </tr>\n",
       "    <tr>\n",
       "      <th>7</th>\n",
       "      <td>First Record:</td>\n",
       "      <td>2nd millennium BC</td>\n",
       "    </tr>\n",
       "    <tr>\n",
       "      <th>8</th>\n",
       "      <td>Recorded By:</td>\n",
       "      <td>Egyptian astronomers</td>\n",
       "    </tr>\n",
       "  </tbody>\n",
       "</table>\n",
       "</div>"
      ],
      "text/plain": [
       "                   Data                          Value\n",
       "0  Equatorial Diameter:                       6,792 km\n",
       "1       Polar Diameter:                       6,752 km\n",
       "2                 Mass:  6.42 x 10^23 kg (10.7% Earth)\n",
       "3                Moons:            2 (Phobos & Deimos)\n",
       "4       Orbit Distance:       227,943,824 km (1.52 AU)\n",
       "5         Orbit Period:           687 days (1.9 years)\n",
       "6  Surface Temperature:                  -153 to 20 °C\n",
       "7         First Record:              2nd millennium BC\n",
       "8          Recorded By:           Egyptian astronomers"
      ]
     },
     "execution_count": 18,
     "metadata": {},
     "output_type": "execute_result"
    }
   ],
   "source": [
    "marsDF"
   ]
  },
  {
   "cell_type": "code",
   "execution_count": 19,
   "metadata": {},
   "outputs": [
    {
     "data": {
      "text/plain": [
       "'<table class=\"tablepress tablepress-id-mars\" id=\"tablepress-mars\">\\n<tbody>\\n<tr class=\"row-1 odd\">\\n<td class=\"column-1\"><strong>Equatorial Diameter:</strong></td><td class=\"column-2\">6,792 km<br/>\\n</td>\\n</tr>\\n<tr class=\"row-2 even\">\\n<td class=\"column-1\"><strong>Polar Diameter:</strong></td><td class=\"column-2\">6,752 km<br/>\\n</td>\\n</tr>\\n<tr class=\"row-3 odd\">\\n<td class=\"column-1\"><strong>Mass:</strong></td><td class=\"column-2\">6.42 x 10^23 kg (10.7% Earth)</td>\\n</tr>\\n<tr class=\"row-4 even\">\\n<td class=\"column-1\"><strong>Moons:</strong></td><td class=\"column-2\">2 (<a href=\"https://space-facts.com/phobos/\">Phobos</a> &amp; <a href=\"https://space-facts.com/deimos/\">Deimos</a>)</td>\\n</tr>\\n<tr class=\"row-5 odd\">\\n<td class=\"column-1\"><strong>Orbit Distance:</strong></td><td class=\"column-2\">227,943,824 km (1.52 AU)</td>\\n</tr>\\n<tr class=\"row-6 even\">\\n<td class=\"column-1\"><strong>Orbit Period:</strong></td><td class=\"column-2\">687 days (1.9 years)<br/>\\n</td>\\n</tr>\\n<tr class=\"row-7 odd\">\\n<td class=\"column-1\"><strong>Surface Temperature: </strong></td><td class=\"column-2\">-153 to 20 °C</td>\\n</tr>\\n<tr class=\"row-8 even\">\\n<td class=\"column-1\"><strong>First Record:</strong></td><td class=\"column-2\">2nd millennium BC</td>\\n</tr>\\n<tr class=\"row-9 odd\">\\n<td class=\"column-1\"><strong>Recorded By:</strong></td><td class=\"column-2\">Egyptian astronomers</td>\\n</tr>\\n</tbody>\\n</table>'"
      ]
     },
     "execution_count": 19,
     "metadata": {},
     "output_type": "execute_result"
    }
   ],
   "source": [
    "# can't tell if this is what the homework wants, which is odd, or the DF\n",
    "marsTableStr = str(table)\n",
    "marsTableStr"
   ]
  },
  {
   "cell_type": "code",
   "execution_count": 20,
   "metadata": {},
   "outputs": [],
   "source": [
    "url = 'https://astrogeology.usgs.gov/search/results?q=hemisphere+enhanced&k1=target&v1=Mars'\n",
    "browser.visit(url)\n",
    "# HTML object\n",
    "html = browser.html\n",
    "# Parse HTML with Beautiful Soup\n",
    "soup = BeautifulSoup(html, 'html.parser')"
   ]
  },
  {
   "cell_type": "code",
   "execution_count": 21,
   "metadata": {},
   "outputs": [],
   "source": [
    "# scrape list of links \n",
    "div = soup.find('div', class_='collapsible results')\n",
    "links = div.findAll('a', class_='itemLink')\n",
    "hemiList = []\n",
    "# loop through the list\n",
    "for n, link in enumerate(links, start=1):\n",
    "    if n % 2 == 0:\n",
    "        # click on link\n",
    "        browser.find_by_text(link.text).first.click()\n",
    "        # HTML object\n",
    "        html = browser.html\n",
    "        # Parse HTML with Beautiful Soup\n",
    "        soup = BeautifulSoup(html, 'html.parser')\n",
    "#         scrape full sized url and title\n",
    "        title = link.text\n",
    "        imgFull = soup.find('a', text='Original')\n",
    "        imgLink = imgFull[\"href\"]\n",
    "#         add url and title to dict\n",
    "        hemiDict = {title:imgLink}\n",
    "#         append dict to list\n",
    "        hemiList.append(hemiDict)\n",
    "#         return browser to base url page\n",
    "        browser.visit(url)\n",
    "    else:\n",
    "        next\n"
   ]
  },
  {
   "cell_type": "code",
   "execution_count": 22,
   "metadata": {},
   "outputs": [
    {
     "data": {
      "text/plain": [
       "[{'Cerberus Hemisphere Enhanced': 'http://astropedia.astrogeology.usgs.gov/download/Mars/Viking/cerberus_enhanced.tif'},\n",
       " {'Schiaparelli Hemisphere Enhanced': 'http://astropedia.astrogeology.usgs.gov/download/Mars/Viking/schiaparelli_enhanced.tif'},\n",
       " {'Syrtis Major Hemisphere Enhanced': 'http://astropedia.astrogeology.usgs.gov/download/Mars/Viking/syrtis_major_enhanced.tif'},\n",
       " {'Valles Marineris Hemisphere Enhanced': 'http://astropedia.astrogeology.usgs.gov/download/Mars/Viking/valles_marineris_enhanced.tif'}]"
      ]
     },
     "execution_count": 22,
     "metadata": {},
     "output_type": "execute_result"
    }
   ],
   "source": [
    "hemiList"
   ]
  },
  {
   "cell_type": "code",
   "execution_count": 23,
   "metadata": {},
   "outputs": [],
   "source": [
    "marsFullData = {\n",
    "    \"articles\" :articleList,\n",
    "    \"big image\" :featureImg,\n",
    "    \"weather\" :mars_weather,\n",
    "    \"table\" :marsDF,\n",
    "    \"hemispheres\" :hemiList\n",
    "}"
   ]
  },
  {
   "cell_type": "code",
   "execution_count": 24,
   "metadata": {},
   "outputs": [
    {
     "data": {
      "text/plain": [
       "{'articles': [{\"The 'Claw Game' on Mars: NASA InSight Plays to Win\": \"NASA's InSight lander will be the first mission to use a robotic arm to grasp instruments from the spacecraft and place them on the surface of another planet. \"},\n",
       "  {'Scientists to Debate Landing Site for Next Mars Rover': \"Hundreds of scientists and Mars-exploration enthusiasts gather this week to present, discuss and deliberate the future landing site for NASA's next Red Planet. \"},\n",
       "  {'Update on Opportunity Rover after Martian Dust Storm': \"One month since increasing their commanding frequency, engineers have yet to hear from NASA's Opportunity rover.\"},\n",
       "  {'Mars Virtual Reality Software Wins NASA Award': \"A mixed-reality software that allows scientists and engineers to virtually walk on Mars has received NASA's 2018 Software of the Year Award.\"},\n",
       "  {'Painting Cars for Mars': \"What does NASA do to get a rover ready for Mars? JPL's paint shop does a thousand different paint jobs a year. And while every piece of spacecraft that comes through the shop is important, one headed for the Red Planet adds a little extra oomph.\"},\n",
       "  {\"Curiosity Rover to Temporarily Switch 'Brains'\": \"NASA engineers are switching over to Curiosity's spare computer to diagnose a technical issue.\"},\n",
       "  {'Opportunity Emerges in a Dusty Picture': \"NASA still hasn't heard from the Opportunity rover, but at least the agency can see it again.\"},\n",
       "  {'NASA Seeking Partner in Contest to Name Next Mars Rover': 'NASA has a class assignment for corporations, nonprofits and educational organizations involved in science and space exploration: partner with the agency to inspire future engineers and scientists by sponsoring a contest to name the next rover to venture to the Red Planet.'},\n",
       "  {\"NASA's MAVEN Selfie Marks Four Years in Orbit at Mars\": 'NASA’s MAVEN spacecraft celebrates four years in Mars orbit with a selfie.'},\n",
       "  {'MarCO Makes Space for Small Explorers': 'A pair of NASA CubeSats flying to Mars are opening a new frontier for small spacecraft.'},\n",
       "  {'Curiosity Surveys a Mystery Under Dusty Skies': \"NASA's Curiosity rover surveyed its surroundings on Mars, producing a 360-degree panorama of its current location on Vera Rubin Ridge.\"},\n",
       "  {\"NASA's InSight Has a Thermometer for Mars\": \"The mission's heat probe could reveal how the planet's towering volcanoes formed.\"},\n",
       "  {'Digital Creators: Apply for NASA Mars Landing Event': \"Up to 30 multimedia participants will be selected for a special two-day event at JPL culminating in the InSight spacecraft's landing on Mars. Apply by Sept. 3.\"},\n",
       "  {\"NASA's InSight Passes Halfway to Mars, Instruments Check In\": \"NASA's InSight spacecraft, en route to a Nov. 26 landing on Mars, passed the halfway mark on Aug. 6. All of its instruments have been tested and are working well.\"},\n",
       "  {\"Six Things About Opportunity's Recovery Efforts\": 'The global dust storm on Mars could soon let in enough sunlight for the Opportunity rover to recharge.'},\n",
       "  {\"Meet the People Behind NASA's InSight Mars Lander\": 'A series of NASA videos highlight scientists and engineers leading the next mission to Mars.'},\n",
       "  {'Mars Terraforming Not Possible Using Present-Day Technology': 'Transforming the inhospitable Martian environment into a place astronauts could explore without life support is not possible without technology well beyond today’s capabilities.'},\n",
       "  {'Opportunity Hunkers Down During Dust Storm': \"It's the beginning of the end for the planet-encircling dust storm on Mars. But it could still be weeks, or even months, before skies are clear enough for NASA's Opportunity rover to recharge its batteries and phone home. \"},\n",
       "  {'NASA Statement on Possible Subsurface Lake near Martian South Pole': \"A new paper suggests that liquid water may be sitting under a layer of ice at Mars' south pole.\"},\n",
       "  {\"JPL's 'Martians' Are Coming to Griffith Observatory\": \"On July 30, when Mars and Earth are closer than they've been since 2003, JPL scientists and engineers will be at a free public event at Griffith Observatory in Los Angeles.\"},\n",
       "  {\"NASA's MAVEN Spacecraft Finds That 'Stolen' Electrons Enable Unusual Aurora on Mars\": 'Auroras appear on Earth as ghostly displays of colorful light in the night sky, usually near the poles.'},\n",
       "  {\"'Storm Chasers' on Mars Searching for Dusty Secrets\": \"Scientists with NASA's Mars orbiters have been waiting years for an event like the current Mars global dust storm.\"},\n",
       "  {'NASA Mars Mission Adds Southern California Dates': \"Looking for summer fun? Southern California families have their choice of the beach, movies, museums -- and even NASA's next mission to Mars.\"},\n",
       "  {'Curiosity Captures Photos of Thickening Dust': 'A storm of tiny dust particles has engulfed much of Mars over the last two weeks.'},\n",
       "  {'NASA Encounters the Perfect Storm for Science': 'One of the most intense Martian dust storms ever observed is being studied by a record number of NASA spacecraft.'},\n",
       "  {'Media Telecon About Mars Dust Storm, Opportunity': 'NASA will host a media telecon on Wednesday, June 13, about a massive Martian dust storm affecting the Opportunity rover, and how various missions can obtain unique science.'},\n",
       "  {'NASA Finds Ancient Organic Material, Mysterious Methane on Mars': 'NASA’s Curiosity rover has found evidence on Mars with implications for NASA’s search for life.'},\n",
       "  {'NASA to Host Live Discussion on New Mars Science Results': \"Questions are welcome during a live discussion at 11 a.m. PDT (2 p.m. EDT) Thursday, June 7, on new science results from NASA's Mars Curiosity rover.\"},\n",
       "  {\"Mars Curiosity's Labs Are Back in Action\": \"NASA's Curiosity rover is analyzing drilled samples on Mars in one of its onboard labs for the first time in more than a year.\"},\n",
       "  {'NASA CubeSats Steer Toward Mars': 'NASA has achieved a first for the class of tiny spacecraft known as CubeSats, which are opening new access to space.'},\n",
       "  {'Scientists Shrink Chemistry Lab to Seek Evidence of Life on Mars': 'An international team of scientists has created a tiny chemistry lab for a rover that will drill beneath the Martian surface looking for signs of past or present life.'},\n",
       "  {'InSight Steers Toward Mars': 'The spacecraft has completed its first trajectory correction maneuver.'},\n",
       "  {'Drilling Success: Curiosity is Collecting Mars Rocks': \"Engineers will now test delivering samples to instruments inside NASA's Curiosity Mars rover.\"},\n",
       "  {\"NASA's Curiosity Rover Aims to Get Its Rhythm Back\": 'Rover engineers at JPL will try to restore percussive drilling on Mars this week, part of a larger series of tests that will last through summer.'},\n",
       "  {'A Pale Blue Dot, As Seen by a CubeSat': \"One of NASA's MarCO CubeSats has taken its first image.\"},\n",
       "  {\"Mars Helicopter to Fly on NASA's Next Red Planet Rover Mission\": 'NASA is adding a Mars helicopter to the agency’s next mission to the Red Planet, Mars 2020.'},\n",
       "  {\"NASA's First Deep-Space CubeSats Say: 'Polo!'\": \"MarCO is a pair of tiny spacecraft that launched with NASA's InSight lander today.\"},\n",
       "  {'NASA, ULA Launch Mission to Study How Mars Was Made': 'NASA’s Mars InSight mission launched this morning on a 300-million-mile trip to Mars to study for the first time what lies deep beneath the surface of the Red Planet.'},\n",
       "  {\"NASA's First Mission to Study the Interior of Mars Awaits May 5 Launch\": 'All systems are go for NASA’s next launch to the Red Planet. '},\n",
       "  {\"Vice President Pence Visits JPL, Previews NASA's Next Mars Mission Launch\": \"A week before NASA's next Mars launch, Vice President Mike Pence toured the birthplace of the InSight Mars Lander and numerous other past, present and future space missions.\"}],\n",
       " 'big image': 'https://www.jpl.nasa.gov/spaceimages/images/wallpaper/PIA18182-1920x1200.jpg',\n",
       " 'weather': 'And finally - a stack of all the images - you can see so much detail here https://dougellison.smugmug.com/Machines/Space-X-SAOCOM-1A/i-zbJzq8L\\xa0…pic.twitter.com/9nLwAH3oZQ',\n",
       " 'table':                    Data                          Value\n",
       " 0  Equatorial Diameter:                       6,792 km\n",
       " 1       Polar Diameter:                       6,752 km\n",
       " 2                 Mass:  6.42 x 10^23 kg (10.7% Earth)\n",
       " 3                Moons:            2 (Phobos & Deimos)\n",
       " 4       Orbit Distance:       227,943,824 km (1.52 AU)\n",
       " 5         Orbit Period:           687 days (1.9 years)\n",
       " 6  Surface Temperature:                  -153 to 20 °C\n",
       " 7         First Record:              2nd millennium BC\n",
       " 8          Recorded By:           Egyptian astronomers,\n",
       " 'hemispheres': [{'Cerberus Hemisphere Enhanced': 'http://astropedia.astrogeology.usgs.gov/download/Mars/Viking/cerberus_enhanced.tif'},\n",
       "  {'Schiaparelli Hemisphere Enhanced': 'http://astropedia.astrogeology.usgs.gov/download/Mars/Viking/schiaparelli_enhanced.tif'},\n",
       "  {'Syrtis Major Hemisphere Enhanced': 'http://astropedia.astrogeology.usgs.gov/download/Mars/Viking/syrtis_major_enhanced.tif'},\n",
       "  {'Valles Marineris Hemisphere Enhanced': 'http://astropedia.astrogeology.usgs.gov/download/Mars/Viking/valles_marineris_enhanced.tif'}]}"
      ]
     },
     "execution_count": 24,
     "metadata": {},
     "output_type": "execute_result"
    }
   ],
   "source": [
    "marsFullData"
   ]
  },
  {
   "cell_type": "code",
   "execution_count": null,
   "metadata": {},
   "outputs": [],
   "source": []
  }
 ],
 "metadata": {
  "kernelspec": {
   "display_name": "Python [conda root]",
   "language": "python",
   "name": "conda-root-py"
  },
  "language_info": {
   "codemirror_mode": {
    "name": "ipython",
    "version": 3
   },
   "file_extension": ".py",
   "mimetype": "text/x-python",
   "name": "python",
   "nbconvert_exporter": "python",
   "pygments_lexer": "ipython3",
   "version": "3.6.5"
  }
 },
 "nbformat": 4,
 "nbformat_minor": 2
}
